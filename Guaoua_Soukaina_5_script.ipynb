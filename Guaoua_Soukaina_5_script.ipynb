{
 "cells": [
  {
   "cell_type": "markdown",
   "id": "18d6fe54-5001-40dd-a8b1-a8a6145e46c5",
   "metadata": {},
   "source": [
    "# Projet 6 : Classifiez automatiquement des biens de consommation"
   ]
  },
  {
   "cell_type": "markdown",
   "id": "040293ca-5058-4481-aa76-dcb99cfad8c6",
   "metadata": {},
   "source": [
    "## Objectifs\n",
    "- Elargir notre gamme de produits, en particulier dans l’épicerie fine.\n",
    "- Collecte de produits à base de “champagne” via une API\n",
    "- Extraction des 10 premiers produits dans un fichier “.csv”,\n",
    "Chaque produit aura les données suivantes : foodId, label, category, foodContentsLabel, image.\""
   ]
  },
  {
   "cell_type": "markdown",
   "id": "3eea7feb-fcb6-494e-911e-553752e77db9",
   "metadata": {},
   "source": [
    "## Testez une API de collecte de données de change"
   ]
  },
  {
   "cell_type": "code",
   "execution_count": 8,
   "id": "5170552e-b24c-4f5a-842e-c8aa49a1e6cd",
   "metadata": {},
   "outputs": [],
   "source": [
    "import requests\n",
    "\n",
    "# Votre clé API Spoonacular\n",
    "api_key = 'cc9b630b175342b48151414d516d3c1a'\n"
   ]
  },
  {
   "cell_type": "code",
   "execution_count": 10,
   "id": "281028ae-c781-4478-aa28-6329f09ab5fa",
   "metadata": {},
   "outputs": [],
   "source": [
    "# URL pour récupérer des produits \n",
    "url = f\"https://api.spoonacular.com/food/products/search?query=champagne&apiKey={api_key}\""
   ]
  },
  {
   "cell_type": "code",
   "execution_count": 12,
   "id": "cef11ed0-be9c-46f1-96f4-da1b940e4a3c",
   "metadata": {},
   "outputs": [],
   "source": [
    "# Effectuer la requête\n",
    "response = requests.get(url)"
   ]
  },
  {
   "cell_type": "code",
   "execution_count": 14,
   "id": "da3474ad-f8e3-4d8f-905c-e7780c6d1350",
   "metadata": {},
   "outputs": [
    {
     "name": "stdout",
     "output_type": "stream",
     "text": [
      "{'type': 'product', 'products': [{'id': 10461678, 'title': 'Terrine de canard au champagne et miel', 'image': 'https://img.spoonacular.com/products/10461678-312x231.jpg', 'imageType': 'jpg'}, {'id': 2049910, 'title': 'Champagne Waris-Larmandier Brut Racines de Trois', 'image': 'https://img.spoonacular.com/products/2049910-312x231.jpg', 'imageType': 'jpg'}, {'id': 5885230, 'title': \"Champagne Leguillette Romelot Cepages d'Autrefois Brut\", 'image': 'https://img.spoonacular.com/products/5885230-312x231.jpg', 'imageType': 'jpg'}, {'id': 9734138, 'title': 'Pate de higado de pato con champagne', 'image': 'https://img.spoonacular.com/products/9734138-312x231.jpg', 'imageType': 'jpg'}, {'id': 5884966, 'title': 'Champagne Leclerc Briant Blanc de Meuniers Brut Zero', 'image': 'https://img.spoonacular.com/products/5884966-312x231.jpg', 'imageType': 'jpg'}, {'id': 6405920, 'title': 'Lionne Royale Brut Champagne 750ml', 'image': 'https://img.spoonacular.com/products/6405920-312x231.jpeg', 'imageType': 'jpeg'}, {'id': 10117102, 'title': 'Champagne & strawberries marshmallow covered in milk chocolate', 'image': 'https://img.spoonacular.com/products/10117102-312x231.jpg', 'imageType': 'jpg'}, {'id': 461061, 'title': 'Champagne Collet Brut Vintage Collection Privee', 'image': 'https://img.spoonacular.com/products/461061-312x231.jpg', 'imageType': 'jpg'}, {'id': 11429974, 'title': 'Galantine de dinde à la fine champagne', 'image': 'https://img.spoonacular.com/products/11429974-312x231.jpg', 'imageType': 'jpg'}, {'id': 10304956, 'title': 'Tartinade de framboises et peches au champagne', 'image': 'https://img.spoonacular.com/products/10304956-312x231.jpg', 'imageType': 'jpg'}], 'offset': 0, 'number': 10, 'totalProducts': 2429, 'processingTimeMs': 2203}\n"
     ]
    }
   ],
   "source": [
    "# Traiter la réponse\n",
    "if response.status_code == 200:\n",
    "    data = response.json()\n",
    "    print(data)\n",
    "else:\n",
    "    print(\"Erreur lors de la requête :\", response.status_code)"
   ]
  },
  {
   "cell_type": "code",
   "execution_count": 16,
   "id": "0abc9ad0-7312-4f0e-ba99-6bd57f235bc4",
   "metadata": {},
   "outputs": [
    {
     "name": "stdout",
     "output_type": "stream",
     "text": [
      "Données sauvegardées dans champagne_products.csv\n"
     ]
    }
   ],
   "source": [
    "import requests\n",
    "import csv\n",
    "\n",
    "# Votre clé API Spoonacular\n",
    "API_KEY = 'cc9b630b175342b48151414d516d3c1a'\n",
    "\n",
    "# URL de l'API pour rechercher des produits contenant \"champagne\"\n",
    "BASE_URL = f'https://api.spoonacular.com/food/products/search'\n",
    "\n",
    "# Fonction pour récupérer les 10 premiers produits à base de \"champagne\"\n",
    "def fetch_champagne_products(api_key, query='champagne', number=10):\n",
    "    params = {\n",
    "        'query': query,\n",
    "        'number': number,  # Limiter à 10 produits\n",
    "        'apiKey': api_key\n",
    "    }\n",
    "    \n",
    "    response = requests.get(BASE_URL, params=params)\n",
    "    \n",
    "    if response.status_code == 200:\n",
    "        return response.json()  # Retourner les données sous forme de dictionnaire\n",
    "    else:\n",
    "        print(f\"Erreur lors de la requête : {response.status_code}\")\n",
    "        return None\n",
    "\n",
    "# Fonction pour extraire les informations nécessaires et les écrire dans un fichier CSV\n",
    "def save_to_csv(dataCH, filename='champagne_products.csv'):\n",
    "    if not data:\n",
    "        print(\"Aucune donnée à écrire.\")\n",
    "        return\n",
    "    \n",
    "    # Ouvrir le fichier CSV en mode écriture\n",
    "    with open(filename, mode='w', newline='', encoding='utf-8') as file:\n",
    "        writer = csv.writer(file)\n",
    "        \n",
    "        # Écrire les en-têtes du CSV\n",
    "        writer.writerow(['foodId', 'label', 'category', 'foodContentsLabel', 'image'])\n",
    "        \n",
    "        # Parcourir les produits et extraire les informations demandées\n",
    "        for product in data.get('products', []):\n",
    "            food_id = product.get('id', 'N/A')\n",
    "            label = product.get('title', 'N/A')\n",
    "            category = product.get('category', 'N/A')\n",
    "            food_contents_label = product.get('nutrition', {}).get('caloricBreakdown', {}).get('percentProtein', 'N/A')\n",
    "            image = product.get('image', 'N/A')\n",
    "            \n",
    "            # Écrire une ligne par produit dans le fichier CSV\n",
    "            writer.writerow([food_id, label, category, food_contents_label, image])\n",
    "\n",
    "    print(f\"Données sauvegardées dans {filename}\")\n",
    "\n",
    "# Tester la fonction\n",
    "dataCH = fetch_champagne_products(API_KEY)\n",
    "\n",
    "# Sauvegarder les 10 premiers produits dans un fichier CSV\n",
    "save_to_csv(dataCH)"
   ]
  },
  {
   "cell_type": "code",
   "execution_count": 18,
   "id": "5a0fe2d7-06f2-415c-ac55-7fe72278ee57",
   "metadata": {},
   "outputs": [
    {
     "name": "stdout",
     "output_type": "stream",
     "text": [
      "     foodId                                              label category  \\\n",
      "0  10461678             Terrine de canard au champagne et miel      N/A   \n",
      "1   2049910   Champagne Waris-Larmandier Brut Racines de Trois      N/A   \n",
      "2   5885230  Champagne Leguillette Romelot Cepages d'Autref...      N/A   \n",
      "3   9734138               Pate de higado de pato con champagne      N/A   \n",
      "4   5884966  Champagne Leclerc Briant Blanc de Meuniers Bru...      N/A   \n",
      "5   6405920                 Lionne Royale Brut Champagne 750ml      N/A   \n",
      "6  10117102  Champagne & strawberries marshmallow covered i...      N/A   \n",
      "7    461061    Champagne Collet Brut Vintage Collection Privee      N/A   \n",
      "8  11429974             Galantine de dinde à la fine champagne      N/A   \n",
      "9  10304956     Tartinade de framboises et peches au champagne      N/A   \n",
      "\n",
      "  foodContentsLabel                                              image  \n",
      "0               N/A  https://img.spoonacular.com/products/10461678-...  \n",
      "1               N/A  https://img.spoonacular.com/products/2049910-3...  \n",
      "2               N/A  https://img.spoonacular.com/products/5885230-3...  \n",
      "3               N/A  https://img.spoonacular.com/products/9734138-3...  \n",
      "4               N/A  https://img.spoonacular.com/products/5884966-3...  \n",
      "5               N/A  https://img.spoonacular.com/products/6405920-3...  \n",
      "6               N/A  https://img.spoonacular.com/products/10117102-...  \n",
      "7               N/A  https://img.spoonacular.com/products/461061-31...  \n",
      "8               N/A  https://img.spoonacular.com/products/11429974-...  \n",
      "9               N/A  https://img.spoonacular.com/products/10304956-...  \n"
     ]
    }
   ],
   "source": [
    "import requests\n",
    "import pandas as pd\n",
    "\n",
    "# Votre clé API Spoonacular\n",
    "API_KEY = 'cc9b630b175342b48151414d516d3c1a'\n",
    "\n",
    "# URL de l'API pour rechercher des produits contenant \"champagne\"\n",
    "BASE_URL = f'https://api.spoonacular.com/food/products/search'\n",
    "\n",
    "# Fonction pour récupérer les 10 premiers produits à base de \"champagne\"\n",
    "def fetch_champagne_products(api_key, query='champagne', number=10):\n",
    "    params = {\n",
    "        'query': query,\n",
    "        'number': number,  # Limiter à 10 produits\n",
    "        'apiKey': api_key\n",
    "    }\n",
    "    \n",
    "    response = requests.get(BASE_URL, params=params)\n",
    "    \n",
    "    if response.status_code == 200:\n",
    "        return response.json()  # Retourner les données sous forme de dictionnaire\n",
    "    else:\n",
    "        print(f\"Erreur lors de la requête : {response.status_code}\")\n",
    "        return None\n",
    "\n",
    "# Fonction pour extraire les informations nécessaires et afficher sous forme de tableau\n",
    "def display_as_table(dataCH1):\n",
    "    if not data:\n",
    "        print(\"Aucune donnée à afficher.\")\n",
    "        return\n",
    "    \n",
    "    # Créer des listes pour chaque colonne\n",
    "    food_ids = []\n",
    "    labels = []\n",
    "    categories = []\n",
    "    food_contents_labels = []\n",
    "    images = []\n",
    "\n",
    "    # Parcourir les produits et extraire les informations demandées\n",
    "    for product in data.get('products', []):\n",
    "        food_id = product.get('id', 'N/A')\n",
    "        label = product.get('title', 'N/A')\n",
    "        category = product.get('category', 'N/A')\n",
    "        food_contents_label = product.get('nutrition', {}).get('caloricBreakdown', {}).get('percentProtein', 'N/A')\n",
    "        image = product.get('image', 'N/A')\n",
    "        \n",
    "        # Ajouter les données dans les listes\n",
    "        food_ids.append(food_id)\n",
    "        labels.append(label)\n",
    "        categories.append(category)\n",
    "        food_contents_labels.append(food_contents_label)\n",
    "        images.append(image)\n",
    "\n",
    "    # Créer un DataFrame avec pandas\n",
    "    df1 = pd.DataFrame({\n",
    "        'foodId': food_ids,\n",
    "        'label': labels,\n",
    "        'category': categories,\n",
    "        'foodContentsLabel': food_contents_labels,\n",
    "        'image': images\n",
    "    })\n",
    "\n",
    "    # Afficher le DataFrame sous forme de tableau\n",
    "    print(df1)\n",
    "\n",
    "# Tester la fonction\n",
    "dataCH1 = fetch_champagne_products(API_KEY)\n",
    "\n",
    "# Afficher les données sous forme de tableau\n",
    "display_as_table(dataCH1)\n"
   ]
  },
  {
   "cell_type": "code",
   "execution_count": null,
   "id": "bebc5d9a-63c5-4db3-ab2b-2e4f6570c8ab",
   "metadata": {},
   "outputs": [],
   "source": []
  }
 ],
 "metadata": {
  "kernelspec": {
   "display_name": "Python 3 (ipykernel)",
   "language": "python",
   "name": "python3"
  },
  "language_info": {
   "codemirror_mode": {
    "name": "ipython",
    "version": 3
   },
   "file_extension": ".py",
   "mimetype": "text/x-python",
   "name": "python",
   "nbconvert_exporter": "python",
   "pygments_lexer": "ipython3",
   "version": "3.11.7"
  }
 },
 "nbformat": 4,
 "nbformat_minor": 5
}
